{
 "cells": [
  {
   "cell_type": "code",
   "execution_count": 9,
   "metadata": {
    "collapsed": true
   },
   "outputs": [],
   "source": [
    "with open('../Data/processed/CETD/nytimes/original/35.htm') as f:\n",
    "    html_str = f.read().decode('iso-8859-1')\n",
    "with open('../Data/processed/CETD/nytimes/gold/35.txt') as f:\n",
    "    content = f.read().decode('iso-8859-1').split('\\n')"
   ]
  },
  {
   "cell_type": "code",
   "execution_count": 10,
   "metadata": {
    "collapsed": true
   },
   "outputs": [],
   "source": [
    "from process import Evaluate\n",
    "from CETR import CETR\n",
    "cetr1d = CETR(method='1D')\n",
    "cetr2d = CETR(method='2D')\n",
    "cetr1d.process_html(html_str, tidy=False)\n",
    "cetr2d.process_html(html_str, tidy=False)"
   ]
  },
  {
   "cell_type": "code",
   "execution_count": 11,
   "metadata": {
    "collapsed": true
   },
   "outputs": [],
   "source": [
    "ret1 = cetr1d.filter_content()\n",
    "ret2 = cetr2d.filter_content()"
   ]
  },
  {
   "cell_type": "code",
   "execution_count": 12,
   "metadata": {
    "collapsed": true
   },
   "outputs": [],
   "source": [
    "gold = [word for line in content for word in line.strip().split() if line.strip()]"
   ]
  },
  {
   "cell_type": "code",
   "execution_count": 13,
   "metadata": {},
   "outputs": [
    {
     "data": {
      "text/plain": [
       "(1189, 1355, 1236)"
      ]
     },
     "execution_count": 13,
     "metadata": {},
     "output_type": "execute_result"
    }
   ],
   "source": [
    "len(ret1), len(ret2), len(gold)"
   ]
  },
  {
   "cell_type": "code",
   "execution_count": 14,
   "metadata": {},
   "outputs": [
    {
     "data": {
      "text/plain": [
       "((0.9831791421362489, 0.9457928802588996, 0.9641237113402062),\n",
       " (0.8878228782287823, 0.9733009708737864, 0.9285989965264376))"
      ]
     },
     "execution_count": 14,
     "metadata": {},
     "output_type": "execute_result"
    }
   ],
   "source": [
    "Evaluate.eval(ret1, gold), Evaluate.eval(ret2, gold)"
   ]
  }
 ],
 "metadata": {
  "kernelspec": {
   "display_name": "Python 2",
   "language": "python",
   "name": "python2"
  },
  "language_info": {
   "codemirror_mode": {
    "name": "ipython",
    "version": 2
   },
   "file_extension": ".py",
   "mimetype": "text/x-python",
   "name": "python",
   "nbconvert_exporter": "python",
   "pygments_lexer": "ipython2",
   "version": "2.7.13"
  }
 },
 "nbformat": 4,
 "nbformat_minor": 2
}
