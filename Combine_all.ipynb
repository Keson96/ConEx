{
 "cells": [
  {
   "cell_type": "code",
   "execution_count": 1,
   "metadata": {
    "collapsed": true
   },
   "outputs": [],
   "source": [
    "import os\n",
    "import numpy as np\n",
    "from __future__ import print_function\n",
    "\n",
    "from process import Evaluate"
   ]
  },
  {
   "cell_type": "code",
   "execution_count": 2,
   "metadata": {
    "collapsed": true
   },
   "outputs": [],
   "source": [
    "with open('../Data/processed/L3S-GN1/original/561daa57-344c-404f-b683-67dc8b5a398e.html') as f:\n",
    "    html_str = f.read().decode('iso-8859-1')\n",
    "with open('../Data/processed/L3S-GN1/annotated/561daa57-344c-404f-b683-67dc8b5a398e.txt') as f:\n",
    "    content = f.read().decode('iso-8859-1').split('\\n')"
   ]
  },
  {
   "cell_type": "code",
   "execution_count": 3,
   "metadata": {
    "collapsed": true
   },
   "outputs": [],
   "source": [
    "from BTE import BTE\n",
    "from CCB import CCB\n",
    "from CETR import CETR\n",
    "from CTTD import CTTD\n",
    "from CETD import CETD\n",
    "from ConEx import ConEx\n",
    "\n",
    "bte = BTE()\n",
    "ccb = CCB()\n",
    "cetr1d = CETR(method='1D')\n",
    "cetr2d = CETR(method='2D')\n",
    "cttd = CTTD()\n",
    "cetd = CETD()\n",
    "\n",
    "conex = ConEx(line_algos=[cetr1d, cetr2d, cttd], token_algos=[bte, ccb], dom_algos=[cetd])"
   ]
  },
  {
   "cell_type": "code",
   "execution_count": 4,
   "metadata": {
    "collapsed": true
   },
   "outputs": [],
   "source": [
    "conex.process_html(html_str, tidy=False)\n",
    "conex.run_algorithms()"
   ]
  },
  {
   "cell_type": "code",
   "execution_count": 6,
   "metadata": {
    "collapsed": true
   },
   "outputs": [],
   "source": [
    "ret = conex.filter_content_all()"
   ]
  },
  {
   "cell_type": "code",
   "execution_count": 8,
   "metadata": {
    "collapsed": true
   },
   "outputs": [],
   "source": [
    "gold = [word for line in content for word in line.strip().split() if line.strip()]"
   ]
  },
  {
   "cell_type": "code",
   "execution_count": 8,
   "metadata": {},
   "outputs": [
    {
     "data": {
      "text/plain": [
       "{'BTE': (0.94453125, 0.9781553398058253, 0.9610492845786964),\n",
       " 'CCB': (0.982051282051282, 0.9296116504854369, 0.9551122194513716),\n",
       " 'CETD': (0.8227494766224703, 0.9538834951456311, 0.8834769576620458),\n",
       " 'CETR1D': (0.9831791421362489, 0.9457928802588996, 0.9641237113402062),\n",
       " 'CETR2D': (0.9009077155824509, 0.9635922330097088, 0.9311962470680218),\n",
       " 'CTTD': (0.9831791421362489, 0.9457928802588996, 0.9641237113402062),\n",
       " 'all-avg-1-step': (0.9825726141078838,\n",
       "  0.9579288025889967,\n",
       "  0.9700942236788201),\n",
       " 'all-avg-2-steps': (0.8580599144079886,\n",
       "  0.9733009708737864,\n",
       "  0.912054586808188),\n",
       " 'all-max-1-step': (0.7926749509483323,\n",
       "  0.9805825242718447,\n",
       "  0.8766726943942134),\n",
       " 'all-max-2-steps': (0.7926749509483323,\n",
       "  0.9805825242718447,\n",
       "  0.8766726943942134),\n",
       " 'all-vote-1-step': (0.9833472106577852,\n",
       "  0.9555016181229773,\n",
       "  0.969224456298728),\n",
       " 'all-vote-2-steps': (0.9809760132340778,\n",
       "  0.959546925566343,\n",
       "  0.9701431492842536),\n",
       " 'line_combined-avg': (0.9831791421362489,\n",
       "  0.9457928802588996,\n",
       "  0.9641237113402062),\n",
       " 'line_combined-max': (0.9009077155824509,\n",
       "  0.9635922330097088,\n",
       "  0.9311962470680218),\n",
       " 'line_combined-vote': (0.9831791421362489,\n",
       "  0.9457928802588996,\n",
       "  0.9641237113402062),\n",
       " 'token_combined-avg': (0.9664758789860998,\n",
       "  0.9563106796116505,\n",
       "  0.9613664091093942),\n",
       " 'token_combined-max': (0.94453125, 0.9781553398058253, 0.9610492845786964),\n",
       " 'token_combined-vote': (0.9648405560098119,\n",
       "  0.9546925566343042,\n",
       "  0.9597397315982106)}"
      ]
     },
     "execution_count": 8,
     "metadata": {},
     "output_type": "execute_result"
    }
   ],
   "source": [
    "{algo: Evaluate.eval(ret[algo], gold) for algo in ret.keys()}"
   ]
  }
 ],
 "metadata": {
  "kernelspec": {
   "display_name": "Python 2",
   "language": "python",
   "name": "python2"
  },
  "language_info": {
   "codemirror_mode": {
    "name": "ipython",
    "version": 2
   },
   "file_extension": ".py",
   "mimetype": "text/x-python",
   "name": "python",
   "nbconvert_exporter": "python",
   "pygments_lexer": "ipython2",
   "version": "2.7.13"
  }
 },
 "nbformat": 4,
 "nbformat_minor": 2
}
