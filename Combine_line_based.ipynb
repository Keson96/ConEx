{
 "cells": [
  {
   "cell_type": "code",
   "execution_count": 1,
   "metadata": {
    "collapsed": true
   },
   "outputs": [],
   "source": [
    "import os\n",
    "import numpy as np\n",
    "from __future__ import print_function\n",
    "\n",
    "from process import Evaluate"
   ]
  },
  {
   "cell_type": "code",
   "execution_count": 3,
   "metadata": {
    "collapsed": true
   },
   "outputs": [],
   "source": [
    "with open('../Data/processed/CETD/nytimes/original/35.htm') as f:\n",
    "    html_str = f.read().decode('iso-8859-1')\n",
    "with open('../Data/processed/CETD/nytimes/gold/35.txt') as f:\n",
    "    content = f.read().decode('iso-8859-1').split('\\n')"
   ]
  },
  {
   "cell_type": "code",
   "execution_count": 4,
   "metadata": {
    "collapsed": true
   },
   "outputs": [],
   "source": [
    "from ConEx_line import ConEx_line\n",
    "from CETR import CETR\n",
    "from CTTD import CTTD\n",
    "cetr1d = CETR(method='1D')\n",
    "cetr2d = CETR(method='2D')\n",
    "cttd = CTTD()"
   ]
  },
  {
   "cell_type": "code",
   "execution_count": 5,
   "metadata": {
    "collapsed": true
   },
   "outputs": [],
   "source": [
    "conex_line = ConEx_line([cetr1d, cetr2d, cttd])"
   ]
  },
  {
   "cell_type": "code",
   "execution_count": 6,
   "metadata": {
    "collapsed": true
   },
   "outputs": [],
   "source": [
    "conex_line.process_html(html_str, tidy=False, body_only=False)\n",
    "conex_line.predict_line_label()\n",
    "ret = conex_line.filter_content_all()"
   ]
  },
  {
   "cell_type": "code",
   "execution_count": 7,
   "metadata": {
    "collapsed": true
   },
   "outputs": [],
   "source": [
    "gold = [word for line in content for word in line.strip().split() if line.strip()]"
   ]
  },
  {
   "cell_type": "code",
   "execution_count": 8,
   "metadata": {},
   "outputs": [
    {
     "data": {
      "text/plain": [
       "{'CETR1D': (0.9831791421362489, 0.9457928802588996, 0.9641237113402062),\n",
       " 'CETR2D': (0.9031037093111279, 0.9652103559870551, 0.9331247555729371),\n",
       " 'CTTD': (0.9831791421362489, 0.9457928802588996, 0.9641237113402062),\n",
       " 'line_combined-avg': (0.9831791421362489,\n",
       "  0.9457928802588996,\n",
       "  0.9641237113402062),\n",
       " 'line_combined-max': (0.9031037093111279,\n",
       "  0.9652103559870551,\n",
       "  0.9331247555729371),\n",
       " 'line_combined-vote': (0.9831791421362489,\n",
       "  0.9457928802588996,\n",
       "  0.9641237113402062)}"
      ]
     },
     "execution_count": 8,
     "metadata": {},
     "output_type": "execute_result"
    }
   ],
   "source": [
    "{algo: Evaluate.eval(ret[algo], gold) for algo in ret.keys()}"
   ]
  },
  {
   "cell_type": "code",
   "execution_count": null,
   "metadata": {
    "collapsed": true
   },
   "outputs": [],
   "source": []
  }
 ],
 "metadata": {
  "kernelspec": {
   "display_name": "Python 2",
   "language": "python",
   "name": "python2"
  },
  "language_info": {
   "codemirror_mode": {
    "name": "ipython",
    "version": 2
   },
   "file_extension": ".py",
   "mimetype": "text/x-python",
   "name": "python",
   "nbconvert_exporter": "python",
   "pygments_lexer": "ipython2",
   "version": "2.7.13"
  }
 },
 "nbformat": 4,
 "nbformat_minor": 2
}
