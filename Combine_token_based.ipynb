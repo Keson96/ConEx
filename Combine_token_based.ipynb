{
 "cells": [
  {
   "cell_type": "code",
   "execution_count": 1,
   "metadata": {
    "collapsed": true
   },
   "outputs": [],
   "source": [
    "import os\n",
    "import numpy as np\n",
    "from __future__ import print_function\n",
    "\n",
    "from process import Evaluate"
   ]
  },
  {
   "cell_type": "code",
   "execution_count": 9,
   "metadata": {
    "collapsed": true
   },
   "outputs": [],
   "source": [
    "with open('../Data/processed/CETD/nytimes/original/25.htm') as f:\n",
    "    html_str = f.read()\n",
    "with open('../Data/processed/CETD/nytimes/gold/25.txt') as f:\n",
    "    content = f.read().split('\\n')"
   ]
  },
  {
   "cell_type": "code",
   "execution_count": 10,
   "metadata": {
    "collapsed": true
   },
   "outputs": [],
   "source": [
    "from ConEx_token import ConEx_token"
   ]
  },
  {
   "cell_type": "code",
   "execution_count": 11,
   "metadata": {
    "collapsed": true
   },
   "outputs": [],
   "source": [
    "from BTE import BTE\n",
    "from CCB import CCB\n",
    "bte = BTE(0.7)\n",
    "ccb = CCB()"
   ]
  },
  {
   "cell_type": "code",
   "execution_count": 12,
   "metadata": {
    "collapsed": true
   },
   "outputs": [],
   "source": [
    "conex_token = ConEx_token([bte, ccb])"
   ]
  },
  {
   "cell_type": "code",
   "execution_count": 13,
   "metadata": {
    "collapsed": true
   },
   "outputs": [],
   "source": [
    "conex_token.process_html(html_str, tidy=False)\n",
    "conex_token.predict_token_label()\n",
    "ret = conex_token.filter_content_all()"
   ]
  },
  {
   "cell_type": "code",
   "execution_count": 14,
   "metadata": {
    "collapsed": true
   },
   "outputs": [],
   "source": [
    "gold = [word for line in content for word in line.strip().split() if line.strip()]"
   ]
  },
  {
   "cell_type": "code",
   "execution_count": 15,
   "metadata": {},
   "outputs": [
    {
     "data": {
      "text/plain": [
       "{'BTE': (0.7260928961748634, 0.9770220588235294, 0.8330721003134797),\n",
       " 'CCB': (0.8272650296359018, 0.8979779411764706, 0.8611723226090787),\n",
       " 'token_combined-avg': (0.8181089743589743,\n",
       "  0.9384191176470589,\n",
       "  0.8741438356164383),\n",
       " 'token_combined-max': (0.7260928961748634,\n",
       "  0.9770220588235294,\n",
       "  0.8330721003134797),\n",
       " 'token_combined-vote': (0.7757296466973886,\n",
       "  0.9283088235294118,\n",
       "  0.8451882845188285)}"
      ]
     },
     "execution_count": 15,
     "metadata": {},
     "output_type": "execute_result"
    }
   ],
   "source": [
    "{algo: Evaluate.eval(ret[algo], gold) for algo in ret.keys()}"
   ]
  },
  {
   "cell_type": "code",
   "execution_count": null,
   "metadata": {
    "collapsed": true
   },
   "outputs": [],
   "source": []
  }
 ],
 "metadata": {
  "kernelspec": {
   "display_name": "Python 2",
   "language": "python",
   "name": "python2"
  },
  "language_info": {
   "codemirror_mode": {
    "name": "ipython",
    "version": 2
   },
   "file_extension": ".py",
   "mimetype": "text/x-python",
   "name": "python",
   "nbconvert_exporter": "python",
   "pygments_lexer": "ipython2",
   "version": "2.7.13"
  }
 },
 "nbformat": 4,
 "nbformat_minor": 2
}
